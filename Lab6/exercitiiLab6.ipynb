{
 "cells": [
  {
   "metadata": {},
   "cell_type": "markdown",
   "source": "1. Create a class hierarchy for shapes, starting with a base class Shape. Then, create subclasses like Circle, Rectangle, and Triangle. Implement methods to calculate area and perimeter for each shape.",
   "id": "dd8e53a195b5213f"
  },
  {
   "metadata": {
    "ExecuteTime": {
     "end_time": "2024-11-05T14:28:16.643130Z",
     "start_time": "2024-11-05T14:28:16.628611Z"
    }
   },
   "cell_type": "code",
   "source": [
    "class Shape:\n",
    "    def __init__(self, name):\n",
    "        self.name = name\n",
    "    def area(self):\n",
    "        pass\n",
    "    def perimeter(self):\n",
    "        pass\n",
    "\n",
    "class Circle(Shape):\n",
    "    def __init__(self, name, radius):\n",
    "        super().__init__(name)\n",
    "        self.radius = radius\n",
    "    def area(self):\n",
    "        return 3.14 * self.radius * self.radius\n",
    "    def perimeter(self):\n",
    "        return 2 * 3.14 * self.radius\n",
    "\n",
    "class Rectangle(Shape):\n",
    "    def __init__(self, name, width, length):\n",
    "        super().__init__(name)\n",
    "        self.width = width\n",
    "        self.length = length\n",
    "    def area(self):\n",
    "        return self.width * self.length\n",
    "    def perimeter(self):\n",
    "        return 2 * (self.width + self.length)\n",
    "\n",
    "class Triangle(Shape):\n",
    "    def __init__(self, name, side1, side2, side3):\n",
    "        super().__init__(name)\n",
    "        self.side1 = side1\n",
    "        self.side2 = side2\n",
    "        self.side3 = side3\n",
    "    def area(self):\n",
    "        s = (self.side1 + self.side2 + self.side3) / 2\n",
    "        return (s * (s - self.side1) * (s - self.side2) * (s - self.side3)) ** 0.5\n",
    "    def perimeter(self):\n",
    "        return self.side1 + self.side2 + self.side3\n",
    "\n",
    "for shape in [Circle(\"circle\", 4), Rectangle(\"rectangle\", 2, 3), Triangle(\"triangle\", 3, 4, 5)]:\n",
    "    print(f\"The area of {shape.name} is {shape.area()} and the perimeter is {shape.perimeter()}\")"
   ],
   "id": "initial_id",
   "outputs": [
    {
     "name": "stdout",
     "output_type": "stream",
     "text": [
      "The area of circle is 50.24 and the perimeter is 25.12\n",
      "The area of rectangle is 6 and the perimeter is 10\n",
      "The area of triangle is 6.0 and the perimeter is 12\n"
     ]
    }
   ],
   "execution_count": 30
  },
  {
   "metadata": {},
   "cell_type": "markdown",
   "source": "2. Design a bank account system with a base class Account and subclasses SavingsAccount and CheckingAccount. Implement methods for deposit, withdrawal, and interest calculation.",
   "id": "5d701ddc4775a1ca"
  },
  {
   "metadata": {
    "ExecuteTime": {
     "end_time": "2024-11-05T13:05:54.736500Z",
     "start_time": "2024-11-05T13:05:54.726022Z"
    }
   },
   "cell_type": "code",
   "source": [
    "class Account:\n",
    "    def __init__(self, nume, sold):\n",
    "        self.nume = nume\n",
    "        self.sold = sold\n",
    "    def deposit(self, suma):\n",
    "        self.sold += suma\n",
    "    def withdrawal(self, suma):\n",
    "        self.sold -= suma\n",
    "    def interest(self):\n",
    "        pass\n",
    "\n",
    "class SavingsAccount(Account):\n",
    "    def __init__(self, nume, sold, dobanda):\n",
    "        super().__init__(nume, sold)\n",
    "        self.dobanda = dobanda\n",
    "    def interest(self):\n",
    "        self.sold += self.sold * self.dobanda\n",
    "\n",
    "class CheckingAccount(Account):\n",
    "    def __init__(self, nume, sold, comision):\n",
    "        super().__init__(nume, sold)\n",
    "        self.comision = comision\n",
    "    def withdrawal(self, suma):\n",
    "        self.sold -= suma + self.comision\n",
    "\n",
    "savings = SavingsAccount(\"savings\", 100, 0.1)\n",
    "savings.deposit(50)\n",
    "savings.interest()\n",
    "print(f\"Savings account: {savings.sold}\")\n",
    "checking = CheckingAccount(\"checking\", 100, 2)\n",
    "checking.withdrawal(50)\n",
    "print(f\"Checking account: {checking.sold}\")\n"
   ],
   "id": "b82836a55faba12d",
   "outputs": [
    {
     "name": "stdout",
     "output_type": "stream",
     "text": [
      "Savings account: 165.0\n",
      "Checking account: 48\n"
     ]
    }
   ],
   "execution_count": 7
  },
  {
   "metadata": {},
   "cell_type": "markdown",
   "source": "3. Create a base class Vehicle with attributes like make, model, and year, and then create subclasses for specific types of vehicles like Car, Motorcycle, and Truck. Add methods to calculate mileage or towing capacity based on the vehicle type.",
   "id": "cf647eb4a1277a8d"
  },
  {
   "metadata": {
    "ExecuteTime": {
     "end_time": "2024-11-05T15:11:19.105678Z",
     "start_time": "2024-11-05T15:11:19.099313Z"
    }
   },
   "cell_type": "code",
   "source": [
    "class Vehicle:\n",
    "    def __init__(self, make, model, year):\n",
    "        self.make = make\n",
    "        self.model = model\n",
    "        self.year = year\n",
    "\n",
    "    def mileage(self):\n",
    "        pass\n",
    "\n",
    "    def towing_capacity(self):\n",
    "        pass\n",
    "\n",
    "    def __str__(self):\n",
    "        return f\"{self.year} {self.make} {self.model}\"\n",
    "\n",
    "class Car(Vehicle):\n",
    "    def __init__(self, make, model, year, mileage):\n",
    "        super().__init__(make, model, year)\n",
    "        self.mileage = mileage\n",
    "\n",
    "    def __str__(self):\n",
    "        return f\"{super().__str__()} has a mileage of {self.mileage}\"\n",
    "\n",
    "class Motorcycle(Vehicle):\n",
    "    def __init__(self, make, model, year, mileage):\n",
    "        super().__init__(make, model, year)\n",
    "        self.mileage = mileage\n",
    "\n",
    "    def __str__(self):\n",
    "        return f\"{super().__str__()} has a mileage of {self.mileage}\"\n",
    "\n",
    "class Truck(Vehicle):\n",
    "    def __init__(self, make, model, year, towing_capacity):\n",
    "        super().__init__(make, model, year)\n",
    "        self.towing_capacity = towing_capacity\n",
    "\n",
    "    def __str__(self):\n",
    "        return f\"{super().__str__()} has a towing capacity of {self.towing_capacity}\"\n",
    "\n",
    "car = Car(\"Fiat\", \"500\", 2010, 100)\n",
    "print(car)\n",
    "motorcycle = Motorcycle(\"Vespa\", \"GTS\", 2015, 50)\n",
    "print(motorcycle)\n",
    "truck = Truck(\"Volvo\", \"FH\", 2015, 5000)\n",
    "print(truck)"
   ],
   "id": "9f2d4e200a02c40d",
   "outputs": [
    {
     "name": "stdout",
     "output_type": "stream",
     "text": [
      "2010 Fiat 500 has a mileage of 100\n",
      "2015 Vespa GTS has a mileage of 50\n",
      "2015 Volvo FH has a towing capacity of 5000\n"
     ]
    }
   ],
   "execution_count": 45
  },
  {
   "metadata": {},
   "cell_type": "markdown",
   "source": "4. Build an employee hierarchy with a base class Employee. Create subclasses for different types of employees like Manager, Engineer, and Salesperson. Each subclass should have attributes like salary and methods related to their roles.",
   "id": "d8879c9a4e4b9f38"
  },
  {
   "metadata": {
    "ExecuteTime": {
     "end_time": "2024-11-05T14:44:54.199214Z",
     "start_time": "2024-11-05T14:44:54.181214Z"
    }
   },
   "cell_type": "code",
   "source": [
    "class Employee:\n",
    "    def __init__(self, nume, salariu):\n",
    "        self.nume = nume\n",
    "        self.salariu = salariu\n",
    "    def role(self):\n",
    "        pass\n",
    "    def __str__(self):\n",
    "        return f\"{self.nume} is a {self.role()} with salary {self.salariu}\"\n",
    "\n",
    "class Manager(Employee):\n",
    "    def __init__(self, nume, salariu):\n",
    "        super().__init__(nume, salariu)\n",
    "    def role(self):\n",
    "        return \"Manager\"\n",
    "    def bonus(self):\n",
    "        return self.salariu * 0.2\n",
    "    def __str__(self):\n",
    "        return super().__str__() + f\" and bonus {self.bonus()}\"\n",
    "\n",
    "class Engineer(Employee):\n",
    "    def __init__(self, nume, salariu):\n",
    "        super().__init__(nume, salariu)\n",
    "    def role(self):\n",
    "        return \"Engineer\"\n",
    "    def bonus(self):\n",
    "        return self.salariu * 0.15\n",
    "    def __str__(self):\n",
    "        return super().__str__() + f\" and bonus {self.bonus()}\"\n",
    "    \n",
    "class Salesperson(Employee):\n",
    "    def __init__(self, nume, salariu):\n",
    "        super().__init__(nume, salariu)\n",
    "    def role(self):\n",
    "        return \"Salesperson\"\n",
    "    def bonus(self):\n",
    "        return self.salariu * 0.1\n",
    "    def __str__(self):\n",
    "        return super().__str__() + f\" and bonus {self.bonus()}\"\n",
    "\n",
    "manager = Manager(\"John\", 1000)\n",
    "print(manager)\n",
    "engineer = Engineer(\"Alice\", 800)\n",
    "print(engineer)\n",
    "salesperson = Salesperson(\"Bob\", 600)\n",
    "print(salesperson)\n"
   ],
   "id": "51a71e12ce386dee",
   "outputs": [
    {
     "name": "stdout",
     "output_type": "stream",
     "text": [
      "John is a Manager with salary 1000 and bonus 200.0\n",
      "Alice is a Engineer with salary 800 and bonus 120.0\n",
      "Bob is a Salesperson with salary 600 and bonus 60.0\n"
     ]
    }
   ],
   "execution_count": 43
  },
  {
   "metadata": {},
   "cell_type": "markdown",
   "source": "5. Create a class hierarchy for animals, starting with a base class Animal. Then, create subclasses like Mammal, Bird, and Fish. Add properties and methods to represent characteristics unique to each animal group.",
   "id": "97f74c8f50ae82dc"
  },
  {
   "metadata": {
    "ExecuteTime": {
     "end_time": "2024-11-05T14:24:55.021274Z",
     "start_time": "2024-11-05T14:24:55.005181Z"
    }
   },
   "cell_type": "code",
   "source": [
    "class Animal:\n",
    "    def __init__(self, name):\n",
    "        self.name = name\n",
    "    \n",
    "    def __str__(self):\n",
    "        return f\"{self.name} is a {self.__class__.__name__}\"\n",
    "    \n",
    "\n",
    "class Mammal(Animal):\n",
    "    def __init__(self, name, fur_color, number_of_leg):\n",
    "        super().__init__(name)\n",
    "        self.fur_color = fur_color\n",
    "        self.sound = \"Some mammal sound\"\n",
    "        self.move = \"Walk or run\"\n",
    "        self.number_of_leg = number_of_leg\n",
    "    def number_of_legs(self):\n",
    "        return self.number_of_leg\n",
    "    def __str__(self):\n",
    "        return super().__str__() + f\", with {self.fur_color} fur, {self.number_of_leg} legs, sound: {self.sound}, move: {self.move}.\"\n",
    "\n",
    "class Bird(Animal):\n",
    "    def __init__(self, name, wing_span):\n",
    "        super().__init__(name)\n",
    "        self.wing_span = wing_span\n",
    "        self.sound = \"Chirp or tweet\"\n",
    "        self.move = \"Fly\"\n",
    "    def lay_eggs(self) :\n",
    "        return True\n",
    "    def __str__(self) :\n",
    "        return super().__str__() + f\", with a wingspan of {self.wing_span} meters, sound: {self.sound}, move: {self.move}, lays eggs: {self.lay_eggs()}.\"\n",
    "\n",
    "class Fish(Animal):\n",
    "    def __init__(self, name, water_type):\n",
    "        super().__init__(name)\n",
    "        self.water_type = water_type  # \"freshwater\" or \"saltwater\"\n",
    "        self.sound = \"Blub\"\n",
    "        self.move = \"Swim\"\n",
    "    def is_aquatic(self):\n",
    "        return True\n",
    "    def has_gills(self):\n",
    "        return True\n",
    "    def __str__(self):\n",
    "        return super().__str__() + f\", found in {self.water_type}, sound: {self.sound}, move: {self.move}, aquatic: {self.is_aquatic()}, has gills: {self.has_gills()}.\"\n",
    "\n",
    "mammal = Mammal(\"Elephant\", \"gray\", 4)\n",
    "print(mammal)\n",
    "bird = Bird(\"Eagle\", 2.3)\n",
    "print(bird)\n",
    "fish = Fish(\"Salmon\", \"freshwater\")\n",
    "print(fish)"
   ],
   "id": "5732fc40037d31e1",
   "outputs": [
    {
     "name": "stdout",
     "output_type": "stream",
     "text": [
      "Elephant is a Mammal, with gray fur, 4 legs, sound: Some mammal sound, move: Walk or run.\n",
      "Eagle is a Bird, with a wingspan of 2.3 meters, sound: Chirp or tweet, move: Fly, lays eggs: True.\n",
      "Salmon is a Fish, found in freshwater, sound: Blub, move: Swim, aquatic: True, has gills: True.\n"
     ]
    }
   ],
   "execution_count": 27
  },
  {
   "metadata": {},
   "cell_type": "markdown",
   "source": "6. Design a library catalog system with a base class LibraryItem and subclasses for different types of items like Book, DVD, and Magazine. Include methods to check out, return, and display information about each item.",
   "id": "d055e1cc5bbb9ff4"
  },
  {
   "metadata": {
    "ExecuteTime": {
     "end_time": "2024-11-05T14:36:34.038089Z",
     "start_time": "2024-11-05T14:36:34.014353Z"
    }
   },
   "cell_type": "code",
   "source": [
    "class LibraryItem:\n",
    "    def __init__(self, title):\n",
    "        self.title = title\n",
    "        self.checked_out = False\n",
    "\n",
    "    def check_out(self):\n",
    "        if not self.checked_out:\n",
    "            self.checked_out = True\n",
    "            return f\"{self.title} has been checked out.\"\n",
    "        return f\"{self.title} is already checked out.\"\n",
    "\n",
    "    def return_item(self):\n",
    "        if self.checked_out:\n",
    "            self.checked_out = False\n",
    "            return f\"{self.title} has been returned.\"\n",
    "        return f\"{self.title} was not checked out.\"\n",
    "\n",
    "    def display_info(self):\n",
    "        return f\"Title: {self.title}\\nStatus: {'Checked out' if self.checked_out else 'Available'}\"\n",
    "\n",
    "    def __str__(self):\n",
    "        return self.display_info()\n",
    "\n",
    "\n",
    "class Book(LibraryItem):\n",
    "    def __init__(self, title, author, num_pages):\n",
    "        super().__init__(title)\n",
    "        self.author = author\n",
    "        self.num_pages = num_pages\n",
    "\n",
    "    def display_info(self):\n",
    "        info = super().display_info()\n",
    "        return f\"{info}\\nType: Book\\nAuthor: {self.author}\\nPages: {self.num_pages}\"\n",
    "\n",
    "\n",
    "class DVD(LibraryItem):\n",
    "    def __init__(self, title, director, duration):\n",
    "        super().__init__(title)\n",
    "        self.director = director\n",
    "        self.duration = duration\n",
    "\n",
    "    def display_info(self):\n",
    "        info = super().display_info()\n",
    "        return f\"{info}\\nType: DVD\\nDirector: {self.director}\\nDuration: {self.duration} minutes\"\n",
    "\n",
    "\n",
    "class Magazine(LibraryItem):\n",
    "    def __init__(self, title, publication_year):\n",
    "        super().__init__(title)\n",
    "        self.publication_year = publication_year\n",
    "\n",
    "    def display_info(self):\n",
    "        info = super().display_info()\n",
    "        return f\"{info}\\nType: Magazine \\nYear: {self.publication_year}\"\n",
    "\n",
    "\n",
    "book = Book(\"Harry Potter\", \"J.K. Rowling\", 300)\n",
    "print(book.display_info())\n",
    "print(book.check_out())\n",
    "print(book.check_out())\n",
    "print(book.return_item())\n",
    "print(\"------------------------------------------\")\n",
    "dvd = DVD(\"Inception\", \"Christopher Nolan\", 150)\n",
    "print(dvd.display_info())\n",
    "print(dvd.check_out())\n",
    "print(dvd.return_item())\n",
    "print(\"------------------------------------------\")\n",
    "magazine = Magazine(\"National Geographic\", 2023)\n",
    "print(magazine.display_info())\n",
    "print(magazine.check_out())\n",
    "print(magazine.return_item())\n",
    "print(magazine.check_out())\n",
    "print(magazine.check_out())\n",
    "\n"
   ],
   "id": "dddc9a849fd1a90b",
   "outputs": [
    {
     "name": "stdout",
     "output_type": "stream",
     "text": [
      "Title: Harry Potter\n",
      "Status: Available\n",
      "Type: Book\n",
      "Author: J.K. Rowling\n",
      "Pages: 300\n",
      "Harry Potter has been checked out.\n",
      "Harry Potter is already checked out.\n",
      "Harry Potter has been returned.\n",
      "------------------------------------------\n",
      "Title: Inception\n",
      "Status: Available\n",
      "Type: DVD\n",
      "Director: Christopher Nolan\n",
      "Duration: 150 minutes\n",
      "Inception has been checked out.\n",
      "Inception has been returned.\n",
      "------------------------------------------\n",
      "Title: National Geographic\n",
      "Status: Available\n",
      "Type: Magazine \n",
      "Year: 2023\n",
      "National Geographic has been checked out.\n",
      "National Geographic has been returned.\n",
      "National Geographic has been checked out.\n",
      "National Geographic is already checked out.\n"
     ]
    }
   ],
   "execution_count": 37
  },
  {
   "metadata": {},
   "cell_type": "code",
   "outputs": [],
   "execution_count": null,
   "source": "",
   "id": "d05d8943b8185613"
  }
 ],
 "metadata": {
  "kernelspec": {
   "display_name": "Python 3",
   "language": "python",
   "name": "python3"
  },
  "language_info": {
   "codemirror_mode": {
    "name": "ipython",
    "version": 2
   },
   "file_extension": ".py",
   "mimetype": "text/x-python",
   "name": "python",
   "nbconvert_exporter": "python",
   "pygments_lexer": "ipython2",
   "version": "2.7.6"
  }
 },
 "nbformat": 4,
 "nbformat_minor": 5
}
