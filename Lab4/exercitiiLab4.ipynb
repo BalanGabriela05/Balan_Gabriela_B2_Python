{
 "cells": [
  {
   "metadata": {},
   "cell_type": "markdown",
   "source": "1. Write a function that receives as parameters two lists a and b and returns a list of sets containing: (a intersected with b, a reunited with b, a - b, b - a)",
   "id": "1d3f782f89b3fdf7"
  },
  {
   "cell_type": "code",
   "id": "initial_id",
   "metadata": {
    "collapsed": true,
    "ExecuteTime": {
     "end_time": "2024-10-22T11:37:42.515254Z",
     "start_time": "2024-10-22T11:37:42.507141Z"
    }
   },
   "source": [
    "def set_operations(a: list[int], b: list[int]) -> list[set[int]]:\n",
    "    intersected = set(a).intersection(b)\n",
    "    reunited = set(a).union(b)\n",
    "    a_minus_b = set(a) - set(b)\n",
    "    b_minus_a = set(b) - set(a)\n",
    "\n",
    "    return [intersected, reunited, a_minus_b, b_minus_a]\n",
    "\n",
    "a = [1, 2, 3, 4]\n",
    "b = [3, 4, 5, 6]\n",
    "result = set_operations(a, b)\n",
    "print(result)  "
   ],
   "outputs": [
    {
     "name": "stdout",
     "output_type": "stream",
     "text": [
      "[{3, 4}, {1, 2, 3, 4, 5, 6}, {1, 2}, {5, 6}]\n"
     ]
    }
   ],
   "execution_count": 2
  },
  {
   "metadata": {},
   "cell_type": "markdown",
   "source": [
    "2. Write a function that receives a string as a parameter and returns a dictionary in which the keys are the characters in the character string and the values are the number of occurrences of that character in the given text. Example: For string \"Ana has apples.\" given as a parameter the function will return the dictionary:\n",
    "\n",
    "{'a': 3, 's': 2, '.': 1, 'e': 1, 'h': 1, 'l': 1, 'p': 2, ' ': 2, 'A': 1, 'n': 1} ."
   ],
   "id": "8f3924f5c38e8275"
  },
  {
   "metadata": {
    "ExecuteTime": {
     "end_time": "2024-10-22T11:41:32.289345Z",
     "start_time": "2024-10-22T11:41:32.281830Z"
    }
   },
   "cell_type": "code",
   "source": [
    "def char_count(s: str) -> dict[str, int]:\n",
    "    count_dict = {}\n",
    "\n",
    "    for char in s:\n",
    "        if char in count_dict:\n",
    "            count_dict[char] += 1\n",
    "        else:\n",
    "            count_dict[char] = 1\n",
    "\n",
    "    return count_dict\n",
    "\n",
    "print(char_count(\"Ana has apples.\"))"
   ],
   "id": "1ad714846014ac66",
   "outputs": [
    {
     "name": "stdout",
     "output_type": "stream",
     "text": [
      "{'A': 1, 'n': 1, 'a': 3, ' ': 2, 'h': 1, 's': 2, 'p': 2, 'l': 1, 'e': 1, '.': 1}\n"
     ]
    }
   ],
   "execution_count": 4
  },
  {
   "metadata": {},
   "cell_type": "markdown",
   "source": "3. Compare two dictionaries without using the operator \"==\" returning True or False. (Attention, dictionaries must be recursively covered because they can contain other containers, such as dictionaries, lists, sets, etc.)",
   "id": "1c7b4b3f0a889c7e"
  },
  {
   "metadata": {
    "ExecuteTime": {
     "end_time": "2024-10-22T12:24:37.590687Z",
     "start_time": "2024-10-22T12:24:37.581007Z"
    }
   },
   "cell_type": "code",
   "source": [
    "def compare_dicts(dict1, dict2):\n",
    "    if isinstance(dict1, dict) and isinstance(dict2, dict): # verific daca dict1/2 sunt de tip dict\n",
    "        if dict1.keys() != dict2.keys():\n",
    "            return False\n",
    "        return all(compare_dicts(dict1[key], dict2[key]) for key in dict1) # verific daca toate perechiile de val sunt egale\n",
    "    elif isinstance(dict1, list) and isinstance(dict2, list):\n",
    "        if len(dict1) != len(dict2):\n",
    "            return False\n",
    "        return all(compare_dicts(a, b) for a, b in zip(dict1, dict2))\n",
    "    elif isinstance(dict1, set) and isinstance(dict2, set):\n",
    "        return dict1 == dict2\n",
    "    else:\n",
    "        return dict1 == dict2\n",
    "\n",
    "dict1 = {'a': {'b': [1, 2, 3], 'c': {1, 2, 3}}}\n",
    "dict2 = {'a': {'b': [1, 2, 3], 'c': {1, 2, 3}}}\n",
    "print(compare_dicts(dict1, dict2))"
   ],
   "id": "971ad4b0e10ade7a",
   "outputs": [
    {
     "name": "stdout",
     "output_type": "stream",
     "text": [
      "True\n"
     ]
    }
   ],
   "execution_count": 21
  },
  {
   "metadata": {},
   "cell_type": "markdown",
   "source": [
    "4. The build_xml_element function receives the following parameters: tag, content, and key-value elements given as name-parameters. Build and return a string that represents the corresponding XML element. Example: build_xml_element (\"a\", \"Hello there\", href =\" http://python.org \", _class =\" my-link \", id= \" someid \") returns the string = \"<a href=\"http://python.org \"_class = \" my-link \" id = \" someid \"> Hello there </a>\"\n",
    "\n"
   ],
   "id": "119dbcbaf63d102a"
  },
  {
   "metadata": {
    "ExecuteTime": {
     "end_time": "2024-10-22T11:44:19.723832Z",
     "start_time": "2024-10-22T11:44:19.714170Z"
    }
   },
   "cell_type": "code",
   "source": [
    "def build_xml_element(tag: str, content: str, **attributes) -> str:\n",
    "    attr_str = \" \".join(f'{key}=\"{value}\"' for key, value in attributes.items())\n",
    "\n",
    "    return f\"<{tag} {attr_str}>{content}</{tag}>\"\n",
    "\n",
    "print(build_xml_element(\"a\", \"Hello there\", href=\"http://python.org\", _class=\"my-link\", id=\"someid\"))"
   ],
   "id": "d82834548c3d232c",
   "outputs": [
    {
     "name": "stdout",
     "output_type": "stream",
     "text": [
      "<a href=\"http://python.org\" _class=\"my-link\" id=\"someid\">Hello there</a>\n"
     ]
    }
   ],
   "execution_count": 6
  },
  {
   "metadata": {},
   "cell_type": "markdown",
   "source": "5. The validate_dict function that receives as a parameter a set of tuples ( that represents validation rules for a dictionary that has strings as keys and values) and a dictionary. A rule is defined as follows: (key, \"prefix\", \"middle\", \"suffix\"). A value is considered valid if it starts with \"prefix\", \"middle\" is inside the value (not at the beginning or end) and ends with \"suffix\". The function will return True if the given dictionary matches all the rules, False otherwise. Example: the rules s={(\"key1\", \"\", \"inside\", \"\"), (\"key2\", \"start\", \"middle\", \"winter\")} and d= {\"key1\": \"come inside, it's too cold out\", \"key3\": \"this is not valid\"} => False because although the rules are respected for \"key1\" and \"key2\" \"key3\" that does not appear in the rules.",
   "id": "83eb18bd7cd237b7"
  },
  {
   "metadata": {
    "ExecuteTime": {
     "end_time": "2024-10-22T12:32:32.454484Z",
     "start_time": "2024-10-22T12:32:32.444728Z"
    }
   },
   "cell_type": "code",
   "source": [
    "def validate_dict(rules: set[tuple[str, str, str, str]], d: dict[str, str]) -> bool:\n",
    "    rule_keys = {key for key, _, _, _ in rules} # construiesc un set doar cu keys\n",
    "\n",
    "    if any(key not in rule_keys for key in d):\n",
    "        return False\n",
    "\n",
    "    for key, prefix, middle, suffix in rules:\n",
    "        if key not in d:\n",
    "            return False\n",
    "\n",
    "        value = d[key]\n",
    "\n",
    "        if not value.startswith(prefix):\n",
    "            return False\n",
    "\n",
    "        if middle not in value[len(prefix):-len(suffix) or None]:\n",
    "            return False\n",
    "        \n",
    "        if not value.endswith(suffix):\n",
    "            return False\n",
    "\n",
    "    return True\n",
    "\n",
    "\n",
    "rules = {(\"key1\", \"\", \"inside\", \"\"), (\"key2\", \"start\", \"middle\", \"winter\")}\n",
    "d1 = {\"key1\": \"come inside, it's too cold out\", \"key2\": \"start something in the middle of winter\", \"key3\": \"this is not valid\"}\n",
    "result1 = validate_dict(rules, d1)\n",
    "\n",
    "d2 = {\"key1\": \"come inside, it's too cold out\", \"key2\": \"start something in the middle of winter\"}\n",
    "result2 = validate_dict(rules, d2)\n",
    "print(result1)"
   ],
   "id": "2f3fef659195bfe0",
   "outputs": [
    {
     "name": "stdout",
     "output_type": "stream",
     "text": [
      "{'key2', 'key1'}\n",
      "{'key2', 'key1'}\n",
      "False\n"
     ]
    }
   ],
   "execution_count": 24
  },
  {
   "metadata": {},
   "cell_type": "markdown",
   "source": "6. Write a function that receives as a parameter a list and returns a tuple (a, b), a representing the number of unique elements in the list, and b representing the number of duplicate elements in the list (use sets to achieve this objective).",
   "id": "3c7c64478c3f3156"
  },
  {
   "metadata": {
    "ExecuteTime": {
     "end_time": "2024-10-22T12:05:40.143460Z",
     "start_time": "2024-10-22T12:05:40.134228Z"
    }
   },
   "cell_type": "code",
   "source": [
    "def count_unique_and_duplicates(lst: list) -> tuple[int, int]:\n",
    "    unique_elements = set(lst)  \n",
    "    num_unique = len(unique_elements) \n",
    "    num_duplicates = len(lst) - num_unique\n",
    "    return num_unique, num_duplicates\n",
    "\n",
    "print(count_unique_and_duplicates([1, 2, 3, 2, 1, 4, 5, 5, 5]))  "
   ],
   "id": "443e0b44350defda",
   "outputs": [
    {
     "name": "stdout",
     "output_type": "stream",
     "text": [
      "(5, 4)\n"
     ]
    }
   ],
   "execution_count": 12
  },
  {
   "metadata": {},
   "cell_type": "markdown",
   "source": "7. Write a function that receives a variable number of sets and returns a dictionary with the following operations from all sets two by two: reunion, intersection, a-b, b-a. The key will have the following form: \"a op b\", where a and b are two sets, and op is the applied operator: |, &, -.",
   "id": "a4c2959ddda51738"
  },
  {
   "metadata": {
    "ExecuteTime": {
     "end_time": "2024-10-22T12:44:52.282657Z",
     "start_time": "2024-10-22T12:44:52.272231Z"
    }
   },
   "cell_type": "code",
   "source": [
    "def set_operations(*sets: set) -> dict[str, set]:\n",
    "    result = {}\n",
    "    set_list = list(sets)\n",
    "\n",
    "    for i in range(len(set_list)):\n",
    "        for j in range(i + 1, len(set_list)):\n",
    "            a, b = set_list[i], set_list[j]\n",
    "            # reuniune\n",
    "            result[f\"set{i} | set{j}\"] = a | b\n",
    "            # intersectie \n",
    "            result[f\"set{i} & set{j}\"] = a & b\n",
    "            # a-b\n",
    "            result[f\"set{i} - set{j}\"] = a - b\n",
    "            # b-a\n",
    "            result[f\"set{j} - set{i}\"] = b - a\n",
    "    return result\n",
    "\n",
    "s0 = {1, 2}\n",
    "s1 = {2, 3}\n",
    "result = set_operations(s0, s1)\n",
    "for op, res in result.items():\n",
    "    print(f\"{op}: {res}\")"
   ],
   "id": "27357acb8f2e5d5",
   "outputs": [
    {
     "name": "stdout",
     "output_type": "stream",
     "text": [
      "set0 | set1: {1, 2, 3}\n",
      "set0 & set1: {2}\n",
      "set0 - set1: {1}\n",
      "set1 - set0: {3}\n"
     ]
    }
   ],
   "execution_count": 30
  },
  {
   "metadata": {},
   "cell_type": "markdown",
   "source": [
    "8. Write a function that receives a single dict parameter named mapping. This dictionary always contains a string key \"start\". Starting with the value of this key you must obtain a list of objects by iterating over mapping in the following way: the value of the current key is the key for the next value, until you find a loop (a key that was visited before). The function must return the list of objects obtained as previously described. Ex:\n",
    "loop({'start': 'a', 'b': 'a', 'a': '6', '6': 'z', 'x': '2', 'z': '2', '2': '2', 'y': 'start'}) will return ['a', '6', 'z', '2']\n"
   ],
   "id": "29dfe95ce5c6a045"
  },
  {
   "metadata": {
    "ExecuteTime": {
     "end_time": "2024-10-22T12:10:26.349332Z",
     "start_time": "2024-10-22T12:10:26.340489Z"
    }
   },
   "cell_type": "code",
   "source": [
    "def loop(mapping: dict) -> list:\n",
    "    result = []\n",
    "    visited = set()\n",
    "    current_key = 'start'\n",
    "\n",
    "    while current_key not in visited:\n",
    "        visited.add(current_key)\n",
    "        current_key = mapping[current_key] # actualizez current_key la valoarea asociata in dict mapping\n",
    "        result.append(current_key)\n",
    "\n",
    "    return result\n",
    "\n",
    "exemplu_mapping = {'start': 'a', 'b': 'a', 'a': '6', '6': 'z', 'x': '2', 'z': '2', '2': '2', 'y': 'start'}\n",
    "print(loop(exemplu_mapping)) "
   ],
   "id": "c88a837f7b0ed4c4",
   "outputs": [
    {
     "name": "stdout",
     "output_type": "stream",
     "text": [
      "['a', '6', 'z', '2', '2']\n"
     ]
    }
   ],
   "execution_count": 14
  },
  {
   "metadata": {},
   "cell_type": "markdown",
   "source": [
    "9. Write a function that receives a variable number of positional arguments and a variable number of keyword arguments adn will return the number of positional arguments whose values can be found among keyword arguments values. Ex:\n",
    "my_function(1, 2, 3, 4, x=1, y=2, z=3, w=5) will return returna 3 "
   ],
   "id": "f7a0f0bbaeece35a"
  },
  {
   "metadata": {
    "ExecuteTime": {
     "end_time": "2024-10-22T12:42:06.487860Z",
     "start_time": "2024-10-22T12:42:06.478431Z"
    }
   },
   "cell_type": "code",
   "source": [
    "def my_function(*args, **kwargs) -> int:\n",
    "    kwarg_values = set(kwargs.values()) \n",
    "    #print(kwarg_values)\n",
    "    count = sum(1 for arg in args if arg in kwarg_values)\n",
    "    return count\n",
    "\n",
    "print(my_function(1, 2, 3, 4, x=1, y=2, z=3, w=5))"
   ],
   "id": "7913eca9b7808816",
   "outputs": [
    {
     "name": "stdout",
     "output_type": "stream",
     "text": [
      "3\n"
     ]
    }
   ],
   "execution_count": 29
  },
  {
   "metadata": {},
   "cell_type": "code",
   "outputs": [],
   "execution_count": null,
   "source": "",
   "id": "31c1d206bda17190"
  }
 ],
 "metadata": {
  "kernelspec": {
   "display_name": "Python 3",
   "language": "python",
   "name": "python3"
  },
  "language_info": {
   "codemirror_mode": {
    "name": "ipython",
    "version": 2
   },
   "file_extension": ".py",
   "mimetype": "text/x-python",
   "name": "python",
   "nbconvert_exporter": "python",
   "pygments_lexer": "ipython2",
   "version": "2.7.6"
  }
 },
 "nbformat": 4,
 "nbformat_minor": 5
}
