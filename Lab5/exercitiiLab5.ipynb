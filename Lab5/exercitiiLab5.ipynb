{
 "cells": [
  {
   "metadata": {},
   "cell_type": "markdown",
   "source": "1. Write a Python class that simulates a Stack. The class should implement methods like push, pop, peek (the last two methods should return None if no element is present in the stack).",
   "id": "3e63a56335fec9b6"
  },
  {
   "cell_type": "code",
   "id": "initial_id",
   "metadata": {
    "collapsed": true,
    "ExecuteTime": {
     "end_time": "2024-10-29T07:34:48.728529Z",
     "start_time": "2024-10-29T07:34:48.716889Z"
    }
   },
   "source": [
    "class Stack:\n",
    "    def __init__(self):\n",
    "        self.stack = []\n",
    "    def push(self, element):\n",
    "        self.stack.append(element)\n",
    "    def pop(self):\n",
    "        if len(self.stack) == 0:\n",
    "            return None\n",
    "        element = self.stack[-1]\n",
    "        del self.stack[-1]\n",
    "        return element\n",
    "        #return self.stack.pop()\n",
    "    def peek(self):\n",
    "        if len(self.stack) == 0:\n",
    "            return None\n",
    "        return self.stack[-1]\n",
    "    \n",
    "s = Stack()\n",
    "s.push(1)\n",
    "s.push(5)\n",
    "s.push(7)\n",
    "print(s.peek())\n",
    "print(s.pop())\n",
    "print(s.pop())\n"
   ],
   "outputs": [
    {
     "name": "stdout",
     "output_type": "stream",
     "text": [
      "7\n",
      "7\n",
      "5\n"
     ]
    }
   ],
   "execution_count": 2
  },
  {
   "metadata": {},
   "cell_type": "markdown",
   "source": "2. Write a Python class that simulates a Queue. The class should implement methods like push, pop, peek (the last two methods should return None if no element is present in the queue).",
   "id": "8f2ddc72de1322f2"
  },
  {
   "metadata": {
    "ExecuteTime": {
     "end_time": "2024-10-29T07:37:11.279779Z",
     "start_time": "2024-10-29T07:37:11.270220Z"
    }
   },
   "cell_type": "code",
   "source": [
    "class Queue:\n",
    "    def __init__(self):\n",
    "        self.queue = []\n",
    "    def push(self, element):\n",
    "        self.queue.append(element)\n",
    "    def pop(self):\n",
    "        if len(self.queue) == 0:\n",
    "            return None\n",
    "        element = self.queue[0]\n",
    "        del self.queue[0]\n",
    "        return element\n",
    "    # return self.queue.pop(0)\n",
    "    def peek(self):\n",
    "        if len(self.queue) == 0:\n",
    "            return None\n",
    "        return self.queue[0]\n",
    "    \n",
    "q = Queue()\n",
    "q.push(1)\n",
    "q.push(5)\n",
    "q.push(7)\n",
    "print(q.peek())\n",
    "print(q.pop())\n",
    "print(q.pop())"
   ],
   "id": "205a261a97c8f7a7",
   "outputs": [
    {
     "name": "stdout",
     "output_type": "stream",
     "text": [
      "1\n",
      "1\n",
      "5\n"
     ]
    }
   ],
   "execution_count": 4
  },
  {
   "metadata": {},
   "cell_type": "markdown",
   "source": "3. Write a Python class that simulates a matrix of size NxM, with N and M provided at initialization. The class should provide methods to access elements (get and set methods) and some mathematical functions such as transpose, matrix multiplication and a method that allows iterating through all elements from a matrix an apply a transformation over them (via a lambda function).",
   "id": "b6a82660d7ab90e7"
  },
  {
   "metadata": {
    "ExecuteTime": {
     "end_time": "2024-10-29T13:34:10.207101Z",
     "start_time": "2024-10-29T13:34:10.193038Z"
    }
   },
   "cell_type": "code",
   "source": [
    "class Matrix:\n",
    "    def __init__(self,rows,cols):\n",
    "        self.matrix = [[0 for j in range(cols)] for i in range(rows)]\n",
    "        self.rows = rows\n",
    "        self.cols = cols\n",
    "    def get(self,i,j):\n",
    "        return self.matrix[i][j]\n",
    "    def set(self,i,j,value):\n",
    "        self.matrix[i][j] = value\n",
    "    def transpose(self):\n",
    "        m = Matrix(self.cols,self.rows)\n",
    "        for i in range(self.rows):\n",
    "            for j in range(self.cols):\n",
    "                m.set(j,i,self.get(i,j)) \n",
    "        return m\n",
    "    def multiply(self,other):\n",
    "        if self.cols != other.rows:\n",
    "            return None\n",
    "        m = Matrix(self.rows,other.cols)\n",
    "        for i in range(self.rows):\n",
    "            for j in range(other.cols):\n",
    "                s = 0\n",
    "                for k in range(self.cols):\n",
    "                    s += self.get(i,k) * other.get(k,j)\n",
    "                m.set(i,j,s)\n",
    "        return m\n",
    "    def func(self, f):\n",
    "        for i in range(self.rows):\n",
    "            for j in range(self.cols):\n",
    "                self.matrix[i][j] = f(self.matrix[i][j])\n",
    "\n",
    "# Test\n",
    "def test_matrix():\n",
    "    m1 = Matrix(2, 3)\n",
    "    m1.set(0, 0, 1)\n",
    "    m1.set(0, 1, 2)\n",
    "    m1.set(0, 2, 3)\n",
    "    m1.set(1, 0, 4)\n",
    "    m1.set(1, 1, 5)\n",
    "    m1.set(1, 2, 6)\n",
    "\n",
    "    print(m1.get(0, 0))  \n",
    "    print(m1.get(1, 2)) \n",
    "\n",
    "    m2 = m1.transpose()\n",
    "    print(m2.get(0, 0))  \n",
    "    print(m2.get(2, 1))  \n",
    "\n",
    "    m3 = m1.multiply(m2)\n",
    "    print(m3.get(0, 0)) \n",
    "    print(m3.get(1, 1)) \n",
    "    \n",
    "    m1.func(lambda x : x*x)\n",
    "    print(m1.get(1, 1))\n",
    "    \n",
    "# 1 2 3\n",
    "# 4 5 6\n",
    "# T:\n",
    "# 1 4\n",
    "# 2 5\n",
    "# 3 6\n",
    "# M:\n",
    "# 14 32\n",
    "# 32 77\n",
    "# lambda:\n",
    "# 1 4 9\n",
    "# 16 25 36\n",
    "\n",
    "\n",
    "test_matrix()"
   ],
   "id": "4ae3ad27bf180a85",
   "outputs": [
    {
     "name": "stdout",
     "output_type": "stream",
     "text": [
      "1\n",
      "6\n",
      "1\n",
      "6\n",
      "14\n",
      "77\n",
      "25\n"
     ]
    }
   ],
   "execution_count": 12
  },
  {
   "metadata": {},
   "cell_type": "code",
   "outputs": [],
   "execution_count": null,
   "source": "",
   "id": "d92cbed48b2cd28f"
  }
 ],
 "metadata": {
  "kernelspec": {
   "display_name": "Python 3",
   "language": "python",
   "name": "python3"
  },
  "language_info": {
   "codemirror_mode": {
    "name": "ipython",
    "version": 2
   },
   "file_extension": ".py",
   "mimetype": "text/x-python",
   "name": "python",
   "nbconvert_exporter": "python",
   "pygments_lexer": "ipython2",
   "version": "2.7.6"
  }
 },
 "nbformat": 4,
 "nbformat_minor": 5
}
