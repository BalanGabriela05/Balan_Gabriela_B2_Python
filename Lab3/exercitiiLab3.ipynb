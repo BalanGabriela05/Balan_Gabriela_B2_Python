{
 "cells": [
  {
   "metadata": {},
   "cell_type": "markdown",
   "source": "1. Write a function to return a list of the first n numbers in the Fibonacci string.",
   "id": "2b5987268a36838d"
  },
  {
   "metadata": {
    "ExecuteTime": {
     "end_time": "2024-10-15T10:43:55.657360Z",
     "start_time": "2024-10-15T10:43:55.645451Z"
    }
   },
   "cell_type": "code",
   "source": [
    "def fibonacci(n: int) -> list[int]:\n",
    "    if n == 0:\n",
    "        return []\n",
    "    elif n == 1:\n",
    "        return [0]\n",
    "    elif n == 2:\n",
    "        return [0, 1]\n",
    "    fib = [0, 1]\n",
    "    for i in range(2, n):\n",
    "        fib.append(fib[-1] + fib[-2])\n",
    "    return fib\n",
    "\n",
    "print(fibonacci(10))\n"
   ],
   "id": "initial_id",
   "outputs": [
    {
     "name": "stdout",
     "output_type": "stream",
     "text": [
      "[0, 1, 1, 2, 3, 5, 8, 13, 21, 34]\n"
     ]
    }
   ],
   "execution_count": 1
  },
  {
   "metadata": {},
   "cell_type": "markdown",
   "source": "2. Write a function that receives a list of numbers and returns a list of the prime numbers found in it.",
   "id": "808f38f21f4b051f"
  },
  {
   "metadata": {
    "ExecuteTime": {
     "end_time": "2024-10-15T11:23:49.962153Z",
     "start_time": "2024-10-15T11:23:49.955378Z"
    }
   },
   "cell_type": "code",
   "source": [
    "def is_prime_number(n_list: list[int]) -> list[int]:\n",
    "    prime_list = []\n",
    "    for n in n_list:\n",
    "        if n > 1:\n",
    "            for i in range(2, n): \n",
    "                if n % i == 0:\n",
    "                    break # executed if the number is not prime\n",
    "            else: # this else is executed only if the for loop ends without break\n",
    "                prime_list.append(n)\n",
    "    return prime_list\n",
    "\n",
    "print(is_prime_number([1, 2, 3, 4, 5, 6, 7, 8, 9, 10]))"
   ],
   "id": "c5cd421ae3e6bcb7",
   "outputs": [
    {
     "name": "stdout",
     "output_type": "stream",
     "text": [
      "[2, 3, 5, 7]\n"
     ]
    }
   ],
   "execution_count": 21
  },
  {
   "metadata": {},
   "cell_type": "markdown",
   "source": "3. Write a function that receives as parameters two lists a and b and returns: (a intersected with b, a reunited with b, a - b, b - a)",
   "id": "4c9e41a0e3ea51df"
  },
  {
   "metadata": {
    "ExecuteTime": {
     "end_time": "2024-10-15T10:56:15.677391Z",
     "start_time": "2024-10-15T10:56:15.669636Z"
    }
   },
   "cell_type": "code",
   "source": [
    "def list_operations(a: list[int], b: list[int]) -> tuple[list[int], list[int], list[int], list[int]]:\n",
    "    return (\n",
    "        list(set(a) & set(b)),  # (a ∩ b)\n",
    "        list(set(a) | set(b)),  # (a ∪ b)\n",
    "        list(set(a) - set(b)),  # (a - b)\n",
    "        list(set(b) - set(a))   # (b - a)\n",
    "    )\n",
    "\n",
    "print(list_operations([1, 2, 3, 4, 5], [3, 4, 5, 6, 7]))"
   ],
   "id": "95f69a804dcd9180",
   "outputs": [
    {
     "name": "stdout",
     "output_type": "stream",
     "text": [
      "([3, 4, 5], [1, 2, 3, 4, 5, 6, 7], [1, 2], [6, 7])\n"
     ]
    }
   ],
   "execution_count": 7
  },
  {
   "metadata": {},
   "cell_type": "markdown",
   "source": [
    "4. Write a function that receives as a parameters a list of musical notes (strings), a list of moves (integers) and a start position (integer). The function will return the song composed by going though the musical notes beginning with the start position and following the moves given as parameter. Example :\n",
    "compose([\"do\", \"re\", \"mi\", \"fa\", \"sol\"], [1, -3, 4, 2], 2) \n",
    "will return [\"mi\", \"fa\", \"do\", \"sol\", \"re\"]"
   ],
   "id": "10471ac4e90c3ac"
  },
  {
   "metadata": {
    "ExecuteTime": {
     "end_time": "2024-10-15T11:05:11.015363Z",
     "start_time": "2024-10-15T11:05:11.005936Z"
    }
   },
   "cell_type": "code",
   "source": [
    "def compose(notes: list[str], moves: list[int], start: int) -> list[str]:\n",
    "    song = [notes[start]]\n",
    "    for move in moves:\n",
    "        start = (start + move) % len(notes) # modulo to keep the index in the list\n",
    "        song.append(notes[start])\n",
    "    return song\n",
    "\n",
    "print(compose([\"do\", \"re\", \"mi\", \"fa\", \"sol\"], [1, -3, 4, 2], 2))"
   ],
   "id": "6b8d695f93d80f48",
   "outputs": [
    {
     "name": "stdout",
     "output_type": "stream",
     "text": [
      "['mi', 'fa', 'do', 'sol', 're']\n"
     ]
    }
   ],
   "execution_count": 14
  },
  {
   "metadata": {},
   "cell_type": "markdown",
   "source": "5. Write a function that receives as parameter a matrix and will return the matrix obtained by replacing all the elements under the main diagonal with 0 (zero).\n",
   "id": "fa9f8010962c5926"
  },
  {
   "metadata": {
    "ExecuteTime": {
     "end_time": "2024-10-15T11:10:30.136743Z",
     "start_time": "2024-10-15T11:10:30.129465Z"
    }
   },
   "cell_type": "code",
   "source": [
    "def replace_under_diagonal(matrix: list[list[int]]) -> list[list[int]]:\n",
    "    for i in range(len(matrix)): # len(matrix) = number of rows\n",
    "        for j in range(len(matrix[i])): # len(matrix[i]) = number of columns\n",
    "            if i > j:\n",
    "                matrix[i][j] = 0\n",
    "    return matrix\n",
    "\n",
    "print(replace_under_diagonal([[1, 2, 3], [4, 5, 6], [7, 8, 9]]))"
   ],
   "id": "1ed345b183d0912f",
   "outputs": [
    {
     "name": "stdout",
     "output_type": "stream",
     "text": [
      "[[1, 2, 3], [0, 5, 6], [0, 0, 9]]\n"
     ]
    }
   ],
   "execution_count": 17
  },
  {
   "metadata": {},
   "cell_type": "markdown",
   "source": "6. Write a function that receives as a parameter a variable number of lists and a whole number x. Return a list containing the items that appear exactly x times in the incoming lists. Example: For the [1,2,3], [2,3,4],[4,5,6], [4,1, \"test\"] and x = 2 lists [1,2,3 ] # 1 is in list 1 and 4, 2 is in list 1 and 2, 3 is in lists 1 and 2.",
   "id": "335f304699b51472"
  },
  {
   "metadata": {
    "ExecuteTime": {
     "end_time": "2024-10-15T11:21:19.599143Z",
     "start_time": "2024-10-15T11:21:19.591186Z"
    }
   },
   "cell_type": "code",
   "source": [
    "def appear_x_times(x: int, *lists: list) -> list: # *lists is a tuple of lists\n",
    "    all_items = [item for sublist in lists for item in sublist] # flatten the lists into a single list\n",
    "    # print(all_items)\n",
    "    return [item for item in set(all_items) if all_items.count(item) == x]\n",
    "    # set removes duplicates\n",
    "\n",
    "print(appear_x_times(2, [1, 2, 3], [2, 3, 4], [4, 5, 6], [4, 1, \"test\"]))"
   ],
   "id": "96da461bbc761786",
   "outputs": [
    {
     "name": "stdout",
     "output_type": "stream",
     "text": [
      "[1, 2, 3]\n"
     ]
    }
   ],
   "execution_count": 20
  },
  {
   "metadata": {},
   "cell_type": "markdown",
   "source": "7. Write a function that receives as parameter a list of numbers (integers) and will return a tuple with 2 elements. The first element of the tuple will be the number of palindrome numbers found in the list and the second element will be the greatest palindrome number.",
   "id": "a9800893072b2ca5"
  },
  {
   "metadata": {
    "ExecuteTime": {
     "end_time": "2024-10-15T11:25:44.911298Z",
     "start_time": "2024-10-15T11:25:44.904474Z"
    }
   },
   "cell_type": "code",
   "source": [
    "def is_palindrome_number(n_list: list[int]) -> tuple[int, int]:\n",
    "    palindromes = [num for num in n_list if str(num) == str(num)[::-1]]\n",
    "    return (len(palindromes), \n",
    "            max(palindromes))\n",
    "\n",
    "print(is_palindrome_number([121, 123, 1331, 12321, 123321, 111, 654]))"
   ],
   "id": "c8e0efd150616391",
   "outputs": [
    {
     "name": "stdout",
     "output_type": "stream",
     "text": [
      "(5, 123321)\n"
     ]
    }
   ],
   "execution_count": 23
  },
  {
   "metadata": {},
   "cell_type": "markdown",
   "source": [
    "8. Write a function that receives a number x, default value equal to 1, a list of strings, and a boolean flag set to True. For each string, generate a list containing the characters that have the ASCII code divisible by x if the flag is set to True, otherwise it should contain characters that have the ASCII code not divisible by x. Example:\n",
    "x = 2, [\"test\", \"hello\", \"lab002\"], flag = False \n",
    "will return ([\"e\", \"s\"], [\"e\",\"o\"], [\"a\"]) . Note: The function must return list of lists."
   ],
   "id": "6272a8fa768c33d7"
  },
  {
   "metadata": {
    "ExecuteTime": {
     "end_time": "2024-10-15T11:27:25.143878Z",
     "start_time": "2024-10-15T11:27:25.134054Z"
    }
   },
   "cell_type": "code",
   "source": [
    "def ascii_divisible(x: int = 1, strings: list[str] = [], flag: bool = True) -> list[list[str]]:\n",
    "    if flag:\n",
    "        return [[char for char in string if ord(char) % x == 0] for string in strings]\n",
    "    else:\n",
    "        return [[char for char in string if ord(char) % x != 0] for string in strings]\n",
    "# ord() returns the ASCII code of a character  \n",
    "    \n",
    "print(ascii_divisible(2, [\"test\", \"hello\", \"lab002\"], False))"
   ],
   "id": "a53088bfa4936dbb",
   "outputs": [
    {
     "name": "stdout",
     "output_type": "stream",
     "text": [
      "[['e', 's'], ['e', 'o'], ['a']]\n"
     ]
    }
   ],
   "execution_count": 24
  },
  {
   "metadata": {},
   "cell_type": "markdown",
   "source": "9. Write a function that receives as parameter a matrix which represents the heights of the spectators in a stadium and will return a list of tuples (line, column) each one representing a seat of a spectator which can't see the game. A spectator can't see the game if there is at least one taller spectator standing in front of him. All the seats are occupied. All the seats are at the same level. Row and column indexing starts from 0, beginning with the closest row from the field.",
   "id": "63c48b7a3f4b7bf7"
  },
  {
   "metadata": {
    "ExecuteTime": {
     "end_time": "2024-10-15T11:51:29.119240Z",
     "start_time": "2024-10-15T11:51:29.111282Z"
    }
   },
   "cell_type": "code",
   "source": [
    "def spectators_cant_see(matrix: list[list[int]]) -> list[tuple[int, int]]:\n",
    "    spectators = []\n",
    "    for i in range(1, len(matrix)):\n",
    "        for j in range(len(matrix[i])):\n",
    "            if matrix[i][j] < matrix[i - 1][j]:\n",
    "                spectators.append((i, j))\n",
    "    return spectators\n",
    "\n",
    "print(spectators_cant_see([[1, 2, 3, 2, 1, 1],\n",
    "                  [2, 4, 4, 3, 7, 2],\n",
    "                  [5, 5, 2, 5, 6, 4],\n",
    "                  [6, 6, 7, 6, 7, 5]]))"
   ],
   "id": "9e34852a7883b535",
   "outputs": [
    {
     "name": "stdout",
     "output_type": "stream",
     "text": [
      "[(2, 2), (2, 4)]\n"
     ]
    }
   ],
   "execution_count": 35
  },
  {
   "metadata": {},
   "cell_type": "markdown",
   "source": "10. Write a function that receives a variable number of lists and returns a list of tuples as follows: the first tuple contains the first items in the lists, the second element contains the items on the position 2 in the lists, etc. Example: for lists [1,2,3], [5,6,7], [\"a\", \"b\", \"c\"] return: [(1, 5, \"a \") ,(2, 6, \"b\"), (3,7, \"c\")]. Note: If input lists do not have the same number of items, missing items will be replaced with None to be able to generate max ([len(x) for x in input_lists]) tuples.",
   "id": "793df433722bd183"
  },
  {
   "metadata": {
    "ExecuteTime": {
     "end_time": "2024-10-15T12:02:24.928838Z",
     "start_time": "2024-10-15T12:02:24.919745Z"
    }
   },
   "cell_type": "code",
   "source": [
    "def merge_lists(*lists: list) -> list[tuple]:\n",
    "    max_length = max(len(sublist) for sublist in lists)\n",
    "    return [tuple(sublist[i] if i < len(sublist) else None for sublist in lists) for i in range(max_length)]\n",
    "\n",
    "print(merge_lists([1, 2, 3], [5, 6, 7], [\"a\", \"b\"]))\n",
    "#-----------------------------------------------------------\n",
    "from itertools import zip_longest\n",
    "\n",
    "def merge_lists_zip(*lists: list) -> list[tuple]:\n",
    "    return list(zip_longest(*lists, fillvalue=None)) # fillvalue is used to replace missing values\n",
    "\n",
    "print(merge_lists_zip([1, 2, 3], [5, 6, 7], [\"a\", \"b\"]))\n"
   ],
   "id": "982f8f30e1204446",
   "outputs": [
    {
     "name": "stdout",
     "output_type": "stream",
     "text": [
      "[(1, 5, 'a'), (2, 6, 'b'), (3, 7, None)]\n",
      "[(1, 5, 'a'), (2, 6, 'b'), (3, 7, None)]\n"
     ]
    }
   ],
   "execution_count": 40
  },
  {
   "metadata": {},
   "cell_type": "markdown",
   "source": [
    "11. Write a function that will order a list of string tuples based on the 3rd character of the 2nd element in the tuple. Example:\n",
    "\n",
    "('abc', 'bcd'), ('abc', 'zza')] ==> [('abc', 'zza'), ('abc', 'bcd')]"
   ],
   "id": "8a43a9d10a129ab3"
  },
  {
   "metadata": {
    "ExecuteTime": {
     "end_time": "2024-10-15T12:05:01.936943Z",
     "start_time": "2024-10-15T12:05:01.929362Z"
    }
   },
   "cell_type": "code",
   "source": [
    "def sort_tuples(tuples: list[tuple[str, str]]) -> list[tuple[str, str]]:\n",
    "    return sorted(tuples, key=lambda x: x[1][2])\n",
    "# sorted() sorts the list based on the key function\n",
    "# lambda x: x[1][2] returns the 3rd character of the 2nd element in the tuple\n",
    "\n",
    "print(sort_tuples([('abc', 'bcd'), ('abc', 'zza')]))"
   ],
   "id": "e01aacb5f5880c92",
   "outputs": [
    {
     "name": "stdout",
     "output_type": "stream",
     "text": [
      "[('abc', 'zza'), ('abc', 'bcd')]\n"
     ]
    }
   ],
   "execution_count": 41
  },
  {
   "metadata": {},
   "cell_type": "markdown",
   "source": "12. Write a function that will receive a list of words as parameter and will return a list of lists of words, grouped by rhyme. Two words rhyme if both of them end with the same 2 letters. Example: group_by_rhyme(['ana', 'banana', 'carte', 'arme', 'parte']) will return [['ana', 'banana'], ['carte', 'parte'], ['arme']]",
   "id": "1d90e7c58320646"
  },
  {
   "metadata": {
    "ExecuteTime": {
     "end_time": "2024-10-15T12:10:23.437267Z",
     "start_time": "2024-10-15T12:10:23.429864Z"
    }
   },
   "cell_type": "code",
   "source": [
    "def group_by_rhyme(words: list[str]) -> list[list[str]]:\n",
    "    rhymes_list = {}\n",
    "    for word in words:\n",
    "        rhyme = word[-2:] # rhyme is the key in the dictionary\n",
    "        if rhyme in rhymes_list:\n",
    "            rhymes_list[rhyme].append(word) # add the word to the list of words that rhyme\n",
    "        else:\n",
    "            rhymes_list[rhyme] = [word] # create a new list with the word\n",
    "    return list(rhymes_list.values())\n",
    "\n",
    "print(group_by_rhyme(['ana', 'banana', 'carte', 'arme', 'parte']))"
   ],
   "id": "1ba8cbe04a4e1eef",
   "outputs": [
    {
     "name": "stdout",
     "output_type": "stream",
     "text": [
      "[['ana', 'banana'], ['carte', 'parte'], ['arme']]\n"
     ]
    }
   ],
   "execution_count": 42
  }
 ],
 "metadata": {
  "kernelspec": {
   "display_name": "Python 3",
   "language": "python",
   "name": "python3"
  },
  "language_info": {
   "codemirror_mode": {
    "name": "ipython",
    "version": 2
   },
   "file_extension": ".py",
   "mimetype": "text/x-python",
   "name": "python",
   "nbconvert_exporter": "python",
   "pygments_lexer": "ipython2",
   "version": "2.7.6"
  }
 },
 "nbformat": 4,
 "nbformat_minor": 5
}
