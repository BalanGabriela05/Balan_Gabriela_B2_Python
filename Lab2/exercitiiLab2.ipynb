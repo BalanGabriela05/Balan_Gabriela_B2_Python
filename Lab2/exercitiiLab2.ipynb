{
 "cells": [
  {
   "metadata": {},
   "cell_type": "markdown",
   "source": "1. Find The greatest common divisor of multiple numbers read from the console.",
   "id": "695250c519822209"
  },
  {
   "metadata": {
    "ExecuteTime": {
     "end_time": "2024-10-08T13:43:57.649579Z",
     "start_time": "2024-10-08T13:43:57.641369Z"
    }
   },
   "cell_type": "code",
   "source": [
    "def find_gcd(x, y):\n",
    "    while y != 0:\n",
    "        temp = y\n",
    "        y = x % y\n",
    "        x = temp\n",
    "    return x\n",
    "\n",
    "list_num = [12, 4, 16, 2]\n",
    "\n",
    "# gcd = find_gcd(12, 4)\n",
    "\n",
    "def find_gcd_multiple(list_num):\n",
    "    if len(list_num) == 1:  \n",
    "        return list_num[0]\n",
    "    gcd = find_gcd(list_num[0], list_num[1]) \n",
    "    for i in range(2, len(list_num)):  \n",
    "        gcd = find_gcd(gcd, list_num[i])\n",
    "    return gcd\n",
    "\n",
    "print(find_gcd_multiple(list_num))"
   ],
   "id": "initial_id",
   "outputs": [
    {
     "name": "stdout",
     "output_type": "stream",
     "text": [
      "2\n"
     ]
    }
   ],
   "execution_count": 21
  },
  {
   "metadata": {},
   "cell_type": "markdown",
   "source": "2. Write a script that calculates how many vowels are in a string.",
   "id": "313740063cb645fc"
  },
  {
   "metadata": {
    "ExecuteTime": {
     "end_time": "2024-10-08T13:17:43.491062Z",
     "start_time": "2024-10-08T13:17:43.484981Z"
    }
   },
   "cell_type": "code",
   "source": [
    "string = \"ana are mere\"  \n",
    "vowels = \"aeiouAEIOU\"\n",
    "vowels_count = 0\n",
    "\n",
    "for i in string:\n",
    "    if i in vowels:\n",
    "        vowels_count += 1\n",
    "\n",
    "print(vowels_count)"
   ],
   "id": "ef5ffb0daad43497",
   "outputs": [
    {
     "name": "stdout",
     "output_type": "stream",
     "text": [
      "6\n"
     ]
    }
   ],
   "execution_count": 4
  },
  {
   "metadata": {},
   "cell_type": "markdown",
   "source": "3. Write a script that receives two strings and prints the number of occurrences of the first string in the second.",
   "id": "a1b85d30bfbe242a"
  },
  {
   "metadata": {
    "ExecuteTime": {
     "end_time": "2024-10-08T13:20:11.464489Z",
     "start_time": "2024-10-08T13:20:11.457728Z"
    }
   },
   "cell_type": "code",
   "source": [
    "def find_str(str1, str2):\n",
    "    occurences_count = str2.count(str1)\n",
    "    return occurences_count\n",
    "\n",
    "str1 = \"ana\" \n",
    "str2 = \"anaabbanaana\"  \n",
    "\n",
    "print(find_str(str1, str2))"
   ],
   "id": "320a8d23111e9cad",
   "outputs": [
    {
     "name": "stdout",
     "output_type": "stream",
     "text": [
      "3\n"
     ]
    }
   ],
   "execution_count": 7
  },
  {
   "metadata": {},
   "cell_type": "markdown",
   "source": "4. Write a script that converts a string of characters written in UpperCamelCase into lowercase_with_underscores.",
   "id": "111b4f8707acb0e8"
  },
  {
   "metadata": {},
   "cell_type": "code",
   "outputs": [],
   "execution_count": null,
   "source": [
    "string = \"WhatHaveIDone\"\n",
    "\n",
    "new_string = \"\"\n",
    "new_string += string[0].lower() #first letter is lowercase\n",
    "\n",
    "for c in string[1:]:\n",
    "    if c.isupper():\n",
    "        new_string += \"_\"\n",
    "        new_string += c.lower()\n",
    "    else:\n",
    "        new_string += c\n",
    "\n",
    "print(new_string)"
   ],
   "id": "10d23405b7821234"
  },
  {
   "metadata": {},
   "cell_type": "markdown",
   "source": "5. Write a function that validates if a number is a palindrome.",
   "id": "3e5fd19df43035ef"
  },
  {
   "metadata": {
    "ExecuteTime": {
     "end_time": "2024-10-08T13:34:58.218012Z",
     "start_time": "2024-10-08T13:34:58.211664Z"
    }
   },
   "cell_type": "code",
   "source": [
    "def isPalindrome(num):\n",
    "    num_str = str(num) # convert number to string\n",
    "    \n",
    "    reversed_num = num_str[::-1] # [start:stop:step]\n",
    "    return num_str == reversed_num\n",
    "\n",
    "print(isPalindrome(125261))\n",
    "print(isPalindrome(12321))"
   ],
   "id": "f67808037c1c185",
   "outputs": [
    {
     "name": "stdout",
     "output_type": "stream",
     "text": [
      "False\n",
      "True\n"
     ]
    }
   ],
   "execution_count": 17
  },
  {
   "metadata": {},
   "cell_type": "markdown",
   "source": "6. Write a function that extract a number from a text (for example if the text is \"An apple is 123 USD\", this function will return 123, or if the text is \"abc123abc\" the function will extract 123). The function will extract only the first number that is found.",
   "id": "65a0574d03f1b55a"
  },
  {
   "metadata": {
    "ExecuteTime": {
     "end_time": "2024-10-08T13:22:56.882689Z",
     "start_time": "2024-10-08T13:22:56.875345Z"
    }
   },
   "cell_type": "code",
   "source": [
    "def findFirstNum(text: str):\n",
    "    num_str = \"\"\n",
    "    lastDigit = False\n",
    "    for i in text:\n",
    "        if i.isdigit(): # check if i is a number\n",
    "            lastDigit = True\n",
    "            num_str += i\n",
    "        elif lastDigit == True:\n",
    "            return num_str\n",
    "\n",
    "\n",
    "print(findFirstNum(\"An apple is 123 USD\"))\n",
    "print(findFirstNum(\"abc1234abc4321\"))"
   ],
   "id": "1ddda39c403888c8",
   "outputs": [
    {
     "name": "stdout",
     "output_type": "stream",
     "text": [
      "123\n",
      "1234\n"
     ]
    }
   ],
   "execution_count": 10
  },
  {
   "metadata": {},
   "cell_type": "markdown",
   "source": "7. Write a function that counts how many bits with value 1 a number has. For example for number 24, the binary format is 00011000, meaning 2 bits with value \"1\"",
   "id": "938719c60c6d95e4"
  },
  {
   "metadata": {
    "ExecuteTime": {
     "end_time": "2024-10-08T13:43:10.281384Z",
     "start_time": "2024-10-08T13:43:10.274985Z"
    }
   },
   "cell_type": "code",
   "source": [
    "def countBitsOne(num):\n",
    "    n = bin(num)\n",
    "    count = 0\n",
    "    for i in n:\n",
    "        if i == \"1\":\n",
    "            count += 1\n",
    "    return count\n",
    "\n",
    "print(countBitsOne(24))"
   ],
   "id": "6e604bc4274c0cb8",
   "outputs": [
    {
     "name": "stdout",
     "output_type": "stream",
     "text": [
      "2\n"
     ]
    }
   ],
   "execution_count": 20
  },
  {
   "metadata": {},
   "cell_type": "markdown",
   "source": "8. Write a function that counts how many words exists in a text. A text is considered to be form out of words that are separated by only ONE space. For example: \"I have Python exam\" has 4 words.",
   "id": "64ddc35af90543a4"
  },
  {
   "metadata": {
    "ExecuteTime": {
     "end_time": "2024-10-08T13:27:38.309496Z",
     "start_time": "2024-10-08T13:27:38.302901Z"
    }
   },
   "cell_type": "code",
   "source": [
    "def countWords(string: str):\n",
    "    split_str = string.split(\" \") # a list of words separated by space\n",
    "    print(split_str)\n",
    "    \n",
    "    count_word = len(split_str)\n",
    "    return count_word\n",
    "\n",
    "print(countWords(\"I have Python exam\"))"
   ],
   "id": "5b0237ebe9967df2",
   "outputs": [
    {
     "name": "stdout",
     "output_type": "stream",
     "text": [
      "['I', 'have', 'Python', 'exam']\n",
      "4\n"
     ]
    }
   ],
   "execution_count": 14
  }
 ],
 "metadata": {
  "kernelspec": {
   "display_name": "Python 3",
   "language": "python",
   "name": "python3"
  },
  "language_info": {
   "codemirror_mode": {
    "name": "ipython",
    "version": 2
   },
   "file_extension": ".py",
   "mimetype": "text/x-python",
   "name": "python",
   "nbconvert_exporter": "python",
   "pygments_lexer": "ipython2",
   "version": "2.7.6"
  }
 },
 "nbformat": 4,
 "nbformat_minor": 5
}
